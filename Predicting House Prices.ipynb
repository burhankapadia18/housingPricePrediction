{
 "cells": [
  {
   "cell_type": "markdown",
   "metadata": {},
   "source": [
    "## 1.1: Importing Libraries & Helper Functions"
   ]
  },
  {
   "cell_type": "code",
   "execution_count": 14,
   "metadata": {},
   "outputs": [
    {
     "name": "stdout",
     "output_type": "stream",
     "text": [
      "Libraries imported.\n"
     ]
    }
   ],
   "source": [
    "import pandas as pd\n",
    "import matplotlib.pyplot as plt\n",
    "import tensorflow as tf\n",
    "\n",
    "from utils import *\n",
    "from sklearn.model_selection import train_test_split\n",
    "from tensorflow.keras.models import Sequential\n",
    "from tensorflow.keras.layers import Dense, Dropout\n",
    "from tensorflow.keras.callbacks import EarlyStopping, LambdaCallback\n",
    "\n",
    "%matplotlib inline\n",
    "#tf.logging.set_verbosity(tf.logging.ERROR)\n",
    "\n",
    "print('Libraries imported.')"
   ]
  },
  {
   "cell_type": "markdown",
   "metadata": {},
   "source": [
    "# 2: Importing the Data"
   ]
  },
  {
   "cell_type": "markdown",
   "metadata": {},
   "source": [
    "## 2.1: Importing the Data"
   ]
  },
  {
   "cell_type": "code",
   "execution_count": 2,
   "metadata": {},
   "outputs": [
    {
     "data": {
      "text/html": [
       "<div>\n",
       "<style scoped>\n",
       "    .dataframe tbody tr th:only-of-type {\n",
       "        vertical-align: middle;\n",
       "    }\n",
       "\n",
       "    .dataframe tbody tr th {\n",
       "        vertical-align: top;\n",
       "    }\n",
       "\n",
       "    .dataframe thead th {\n",
       "        text-align: right;\n",
       "    }\n",
       "</style>\n",
       "<table border=\"1\" class=\"dataframe\">\n",
       "  <thead>\n",
       "    <tr style=\"text-align: right;\">\n",
       "      <th></th>\n",
       "      <th>serial</th>\n",
       "      <th>date</th>\n",
       "      <th>age</th>\n",
       "      <th>distance</th>\n",
       "      <th>stores</th>\n",
       "      <th>latitude</th>\n",
       "      <th>longitude</th>\n",
       "      <th>price</th>\n",
       "    </tr>\n",
       "  </thead>\n",
       "  <tbody>\n",
       "    <tr>\n",
       "      <th>0</th>\n",
       "      <td>0</td>\n",
       "      <td>2009</td>\n",
       "      <td>21</td>\n",
       "      <td>9</td>\n",
       "      <td>6</td>\n",
       "      <td>84</td>\n",
       "      <td>121</td>\n",
       "      <td>14264</td>\n",
       "    </tr>\n",
       "    <tr>\n",
       "      <th>1</th>\n",
       "      <td>1</td>\n",
       "      <td>2007</td>\n",
       "      <td>4</td>\n",
       "      <td>2</td>\n",
       "      <td>3</td>\n",
       "      <td>86</td>\n",
       "      <td>121</td>\n",
       "      <td>12032</td>\n",
       "    </tr>\n",
       "    <tr>\n",
       "      <th>2</th>\n",
       "      <td>2</td>\n",
       "      <td>2016</td>\n",
       "      <td>18</td>\n",
       "      <td>3</td>\n",
       "      <td>7</td>\n",
       "      <td>90</td>\n",
       "      <td>120</td>\n",
       "      <td>13560</td>\n",
       "    </tr>\n",
       "    <tr>\n",
       "      <th>3</th>\n",
       "      <td>3</td>\n",
       "      <td>2002</td>\n",
       "      <td>13</td>\n",
       "      <td>2</td>\n",
       "      <td>2</td>\n",
       "      <td>80</td>\n",
       "      <td>128</td>\n",
       "      <td>12029</td>\n",
       "    </tr>\n",
       "    <tr>\n",
       "      <th>4</th>\n",
       "      <td>4</td>\n",
       "      <td>2014</td>\n",
       "      <td>25</td>\n",
       "      <td>5</td>\n",
       "      <td>8</td>\n",
       "      <td>81</td>\n",
       "      <td>122</td>\n",
       "      <td>14157</td>\n",
       "    </tr>\n",
       "  </tbody>\n",
       "</table>\n",
       "</div>"
      ],
      "text/plain": [
       "   serial  date  age  distance  stores  latitude  longitude  price\n",
       "0       0  2009   21         9       6        84        121  14264\n",
       "1       1  2007    4         2       3        86        121  12032\n",
       "2       2  2016   18         3       7        90        120  13560\n",
       "3       3  2002   13         2       2        80        128  12029\n",
       "4       4  2014   25         5       8        81        122  14157"
      ]
     },
     "execution_count": 2,
     "metadata": {},
     "output_type": "execute_result"
    }
   ],
   "source": [
    "df = pd.read_csv('data.csv', names = column_names)\n",
    "df.head()"
   ]
  },
  {
   "cell_type": "markdown",
   "metadata": {},
   "source": [
    "## 2.2: Check Missing Data\n"
   ]
  },
  {
   "cell_type": "code",
   "execution_count": 3,
   "metadata": {},
   "outputs": [
    {
     "data": {
      "text/plain": [
       "serial       0\n",
       "date         0\n",
       "age          0\n",
       "distance     0\n",
       "stores       0\n",
       "latitude     0\n",
       "longitude    0\n",
       "price        0\n",
       "dtype: int64"
      ]
     },
     "execution_count": 3,
     "metadata": {},
     "output_type": "execute_result"
    }
   ],
   "source": [
    "df.isna().sum()"
   ]
  },
  {
   "cell_type": "markdown",
   "metadata": {},
   "source": [
    "# 3: Data Normalization"
   ]
  },
  {
   "cell_type": "markdown",
   "metadata": {},
   "source": [
    "## 3.1: Data Normalization"
   ]
  },
  {
   "cell_type": "code",
   "execution_count": 4,
   "metadata": {},
   "outputs": [
    {
     "data": {
      "text/html": [
       "<div>\n",
       "<style scoped>\n",
       "    .dataframe tbody tr th:only-of-type {\n",
       "        vertical-align: middle;\n",
       "    }\n",
       "\n",
       "    .dataframe tbody tr th {\n",
       "        vertical-align: top;\n",
       "    }\n",
       "\n",
       "    .dataframe thead th {\n",
       "        text-align: right;\n",
       "    }\n",
       "</style>\n",
       "<table border=\"1\" class=\"dataframe\">\n",
       "  <thead>\n",
       "    <tr style=\"text-align: right;\">\n",
       "      <th></th>\n",
       "      <th>date</th>\n",
       "      <th>age</th>\n",
       "      <th>distance</th>\n",
       "      <th>stores</th>\n",
       "      <th>latitude</th>\n",
       "      <th>longitude</th>\n",
       "      <th>price</th>\n",
       "    </tr>\n",
       "  </thead>\n",
       "  <tbody>\n",
       "    <tr>\n",
       "      <th>0</th>\n",
       "      <td>0.015978</td>\n",
       "      <td>0.181384</td>\n",
       "      <td>1.257002</td>\n",
       "      <td>0.345224</td>\n",
       "      <td>-0.307212</td>\n",
       "      <td>-1.260799</td>\n",
       "      <td>0.350088</td>\n",
       "    </tr>\n",
       "    <tr>\n",
       "      <th>1</th>\n",
       "      <td>-0.350485</td>\n",
       "      <td>-1.319118</td>\n",
       "      <td>-0.930610</td>\n",
       "      <td>-0.609312</td>\n",
       "      <td>0.325301</td>\n",
       "      <td>-1.260799</td>\n",
       "      <td>-1.836486</td>\n",
       "    </tr>\n",
       "    <tr>\n",
       "      <th>2</th>\n",
       "      <td>1.298598</td>\n",
       "      <td>-0.083410</td>\n",
       "      <td>-0.618094</td>\n",
       "      <td>0.663402</td>\n",
       "      <td>1.590328</td>\n",
       "      <td>-1.576456</td>\n",
       "      <td>-0.339584</td>\n",
       "    </tr>\n",
       "    <tr>\n",
       "      <th>3</th>\n",
       "      <td>-1.266643</td>\n",
       "      <td>-0.524735</td>\n",
       "      <td>-0.930610</td>\n",
       "      <td>-0.927491</td>\n",
       "      <td>-1.572238</td>\n",
       "      <td>0.948803</td>\n",
       "      <td>-1.839425</td>\n",
       "    </tr>\n",
       "    <tr>\n",
       "      <th>4</th>\n",
       "      <td>0.932135</td>\n",
       "      <td>0.534444</td>\n",
       "      <td>0.006938</td>\n",
       "      <td>0.981581</td>\n",
       "      <td>-1.255981</td>\n",
       "      <td>-0.945141</td>\n",
       "      <td>0.245266</td>\n",
       "    </tr>\n",
       "  </tbody>\n",
       "</table>\n",
       "</div>"
      ],
      "text/plain": [
       "       date       age  distance    stores  latitude  longitude     price\n",
       "0  0.015978  0.181384  1.257002  0.345224 -0.307212  -1.260799  0.350088\n",
       "1 -0.350485 -1.319118 -0.930610 -0.609312  0.325301  -1.260799 -1.836486\n",
       "2  1.298598 -0.083410 -0.618094  0.663402  1.590328  -1.576456 -0.339584\n",
       "3 -1.266643 -0.524735 -0.930610 -0.927491 -1.572238   0.948803 -1.839425\n",
       "4  0.932135  0.534444  0.006938  0.981581 -1.255981  -0.945141  0.245266"
      ]
     },
     "execution_count": 4,
     "metadata": {},
     "output_type": "execute_result"
    }
   ],
   "source": [
    "df = df.iloc[:,1:]\n",
    "df_norm = (df-df.mean())/df.std()\n",
    "df_norm.head()"
   ]
  },
  {
   "cell_type": "markdown",
   "metadata": {},
   "source": [
    "## 3.2: Convert Label Value"
   ]
  },
  {
   "cell_type": "code",
   "execution_count": 5,
   "metadata": {},
   "outputs": [],
   "source": [
    "y_mean = df['price'].mean()\n",
    "y_std = df['price'].std()\n",
    "\n",
    "def convert_label_value(pred):\n",
    "    return int(pred * y_std + y_mean)"
   ]
  },
  {
   "cell_type": "markdown",
   "metadata": {},
   "source": [
    "#  4: Create Training and Test Sets"
   ]
  },
  {
   "cell_type": "markdown",
   "metadata": {},
   "source": [
    "## 4.1: Select Features"
   ]
  },
  {
   "cell_type": "code",
   "execution_count": 6,
   "metadata": {},
   "outputs": [
    {
     "data": {
      "text/html": [
       "<div>\n",
       "<style scoped>\n",
       "    .dataframe tbody tr th:only-of-type {\n",
       "        vertical-align: middle;\n",
       "    }\n",
       "\n",
       "    .dataframe tbody tr th {\n",
       "        vertical-align: top;\n",
       "    }\n",
       "\n",
       "    .dataframe thead th {\n",
       "        text-align: right;\n",
       "    }\n",
       "</style>\n",
       "<table border=\"1\" class=\"dataframe\">\n",
       "  <thead>\n",
       "    <tr style=\"text-align: right;\">\n",
       "      <th></th>\n",
       "      <th>date</th>\n",
       "      <th>age</th>\n",
       "      <th>distance</th>\n",
       "      <th>stores</th>\n",
       "      <th>latitude</th>\n",
       "      <th>longitude</th>\n",
       "    </tr>\n",
       "  </thead>\n",
       "  <tbody>\n",
       "    <tr>\n",
       "      <th>0</th>\n",
       "      <td>0.015978</td>\n",
       "      <td>0.181384</td>\n",
       "      <td>1.257002</td>\n",
       "      <td>0.345224</td>\n",
       "      <td>-0.307212</td>\n",
       "      <td>-1.260799</td>\n",
       "    </tr>\n",
       "    <tr>\n",
       "      <th>1</th>\n",
       "      <td>-0.350485</td>\n",
       "      <td>-1.319118</td>\n",
       "      <td>-0.930610</td>\n",
       "      <td>-0.609312</td>\n",
       "      <td>0.325301</td>\n",
       "      <td>-1.260799</td>\n",
       "    </tr>\n",
       "    <tr>\n",
       "      <th>2</th>\n",
       "      <td>1.298598</td>\n",
       "      <td>-0.083410</td>\n",
       "      <td>-0.618094</td>\n",
       "      <td>0.663402</td>\n",
       "      <td>1.590328</td>\n",
       "      <td>-1.576456</td>\n",
       "    </tr>\n",
       "    <tr>\n",
       "      <th>3</th>\n",
       "      <td>-1.266643</td>\n",
       "      <td>-0.524735</td>\n",
       "      <td>-0.930610</td>\n",
       "      <td>-0.927491</td>\n",
       "      <td>-1.572238</td>\n",
       "      <td>0.948803</td>\n",
       "    </tr>\n",
       "    <tr>\n",
       "      <th>4</th>\n",
       "      <td>0.932135</td>\n",
       "      <td>0.534444</td>\n",
       "      <td>0.006938</td>\n",
       "      <td>0.981581</td>\n",
       "      <td>-1.255981</td>\n",
       "      <td>-0.945141</td>\n",
       "    </tr>\n",
       "  </tbody>\n",
       "</table>\n",
       "</div>"
      ],
      "text/plain": [
       "       date       age  distance    stores  latitude  longitude\n",
       "0  0.015978  0.181384  1.257002  0.345224 -0.307212  -1.260799\n",
       "1 -0.350485 -1.319118 -0.930610 -0.609312  0.325301  -1.260799\n",
       "2  1.298598 -0.083410 -0.618094  0.663402  1.590328  -1.576456\n",
       "3 -1.266643 -0.524735 -0.930610 -0.927491 -1.572238   0.948803\n",
       "4  0.932135  0.534444  0.006938  0.981581 -1.255981  -0.945141"
      ]
     },
     "execution_count": 6,
     "metadata": {},
     "output_type": "execute_result"
    }
   ],
   "source": [
    "x = df_norm.drop( columns=['price'] )\n",
    "x.head()"
   ]
  },
  {
   "cell_type": "markdown",
   "metadata": {},
   "source": [
    "## 4.2: Select Labels"
   ]
  },
  {
   "cell_type": "code",
   "execution_count": 7,
   "metadata": {},
   "outputs": [
    {
     "data": {
      "text/plain": [
       "0    0.350088\n",
       "1   -1.836486\n",
       "2   -0.339584\n",
       "3   -1.839425\n",
       "4    0.245266\n",
       "Name: price, dtype: float64"
      ]
     },
     "execution_count": 7,
     "metadata": {},
     "output_type": "execute_result"
    }
   ],
   "source": [
    "y = df_norm['price']\n",
    "y.head()"
   ]
  },
  {
   "cell_type": "markdown",
   "metadata": {},
   "source": [
    "## 4.3: Feature and Label Values"
   ]
  },
  {
   "cell_type": "code",
   "execution_count": 8,
   "metadata": {},
   "outputs": [
    {
     "name": "stdout",
     "output_type": "stream",
     "text": [
      "x: (5000, 6)\n",
      "y: (5000, 1)\n"
     ]
    }
   ],
   "source": [
    "x_arr = x.values\n",
    "y_arr = y.values\n",
    "y_arr = y_arr.reshape(5000,1)\n",
    "\n",
    "print('x:',x_arr.shape)\n",
    "print('y:',y_arr.shape)"
   ]
  },
  {
   "cell_type": "markdown",
   "metadata": {},
   "source": [
    "## 4.4: Train and Test Split"
   ]
  },
  {
   "cell_type": "code",
   "execution_count": 9,
   "metadata": {},
   "outputs": [
    {
     "name": "stdout",
     "output_type": "stream",
     "text": [
      "training set: (4250, 6) (4250,)\n",
      "test set: (750, 6) (750,)\n"
     ]
    }
   ],
   "source": [
    "x_train, x_test, y_train, y_test = train_test_split(x, y, test_size = 0.15)\n",
    "\n",
    "print('training set:',x_train.shape,y_train.shape)\n",
    "print('test set:',x_test.shape,y_test.shape)"
   ]
  },
  {
   "cell_type": "markdown",
   "metadata": {},
   "source": [
    "# 5: Create the Model"
   ]
  },
  {
   "cell_type": "markdown",
   "metadata": {},
   "source": [
    "## 5.1: Create the Model"
   ]
  },
  {
   "cell_type": "code",
   "execution_count": 10,
   "metadata": {},
   "outputs": [
    {
     "name": "stdout",
     "output_type": "stream",
     "text": [
      "Model: \"sequential\"\n",
      "_________________________________________________________________\n",
      "Layer (type)                 Output Shape              Param #   \n",
      "=================================================================\n",
      "dense (Dense)                (None, 10)                70        \n",
      "_________________________________________________________________\n",
      "dense_1 (Dense)              (None, 20)                220       \n",
      "_________________________________________________________________\n",
      "dense_2 (Dense)              (None, 6)                 126       \n",
      "_________________________________________________________________\n",
      "dense_3 (Dense)              (None, 1)                 7         \n",
      "=================================================================\n",
      "Total params: 423\n",
      "Trainable params: 423\n",
      "Non-trainable params: 0\n",
      "_________________________________________________________________\n"
     ]
    }
   ],
   "source": [
    "def get_model():\n",
    "    model = Sequential([\n",
    "        Dense(10, input_shape=(6,), activation='relu'),\n",
    "        Dense(20, activation='relu'),\n",
    "        Dense(6, activation='relu'),\n",
    "        Dense(1)\n",
    "    ])\n",
    "    model.compile(loss='mse', optimizer='adam')\n",
    "    return model\n",
    "\n",
    "get_model().summary()"
   ]
  },
  {
   "cell_type": "markdown",
   "metadata": {},
   "source": [
    "# 6: Model Training"
   ]
  },
  {
   "cell_type": "markdown",
   "metadata": {},
   "source": [
    "## 6.1: Model Training"
   ]
  },
  {
   "cell_type": "code",
   "execution_count": 11,
   "metadata": {},
   "outputs": [
    {
     "name": "stdout",
     "output_type": "stream",
     "text": [
      "Epoch 1/100\n",
      "133/133 [==============================] - 0s 1ms/step - loss: 0.6275 - val_loss: 0.2966\n",
      "Epoch 2/100\n",
      "133/133 [==============================] - 0s 663us/step - loss: 0.2455 - val_loss: 0.2052\n",
      "Epoch 3/100\n",
      "133/133 [==============================] - 0s 671us/step - loss: 0.1925 - val_loss: 0.1803\n",
      "Epoch 4/100\n",
      "133/133 [==============================] - 0s 655us/step - loss: 0.1753 - val_loss: 0.1719\n",
      "Epoch 5/100\n",
      "133/133 [==============================] - 0s 655us/step - loss: 0.1681 - val_loss: 0.1697\n",
      "Epoch 6/100\n",
      "133/133 [==============================] - 0s 660us/step - loss: 0.1640 - val_loss: 0.1654\n",
      "Epoch 7/100\n",
      "133/133 [==============================] - 0s 660us/step - loss: 0.1613 - val_loss: 0.1639\n",
      "Epoch 8/100\n",
      "133/133 [==============================] - 0s 653us/step - loss: 0.1582 - val_loss: 0.1621\n",
      "Epoch 9/100\n",
      "133/133 [==============================] - 0s 660us/step - loss: 0.1572 - val_loss: 0.1616\n",
      "Epoch 10/100\n",
      "133/133 [==============================] - 0s 658us/step - loss: 0.1552 - val_loss: 0.1617\n",
      "Epoch 11/100\n",
      "133/133 [==============================] - 0s 649us/step - loss: 0.1550 - val_loss: 0.1611\n",
      "Epoch 12/100\n",
      "133/133 [==============================] - 0s 656us/step - loss: 0.1542 - val_loss: 0.1605\n",
      "Epoch 13/100\n",
      "133/133 [==============================] - 0s 661us/step - loss: 0.1534 - val_loss: 0.1600\n",
      "Epoch 14/100\n",
      "133/133 [==============================] - 0s 662us/step - loss: 0.1535 - val_loss: 0.1622\n",
      "Epoch 15/100\n",
      "133/133 [==============================] - 0s 661us/step - loss: 0.1526 - val_loss: 0.1591\n",
      "Epoch 16/100\n",
      "133/133 [==============================] - 0s 652us/step - loss: 0.1524 - val_loss: 0.1603\n",
      "Epoch 17/100\n",
      "133/133 [==============================] - 0s 657us/step - loss: 0.1522 - val_loss: 0.1589\n",
      "Epoch 18/100\n",
      "133/133 [==============================] - 0s 670us/step - loss: 0.1517 - val_loss: 0.1601\n",
      "Epoch 19/100\n",
      "133/133 [==============================] - 0s 653us/step - loss: 0.1528 - val_loss: 0.1584\n",
      "Epoch 20/100\n",
      "133/133 [==============================] - 0s 665us/step - loss: 0.1514 - val_loss: 0.1616\n",
      "Epoch 21/100\n",
      "133/133 [==============================] - 0s 660us/step - loss: 0.1511 - val_loss: 0.1594\n",
      "Epoch 22/100\n",
      "133/133 [==============================] - 0s 651us/step - loss: 0.1512 - val_loss: 0.1583\n",
      "Epoch 23/100\n",
      "133/133 [==============================] - 0s 660us/step - loss: 0.1509 - val_loss: 0.1579\n",
      "Epoch 24/100\n",
      "133/133 [==============================] - 0s 647us/step - loss: 0.1501 - val_loss: 0.1579\n",
      "Epoch 25/100\n",
      "133/133 [==============================] - 0s 663us/step - loss: 0.1506 - val_loss: 0.1572\n",
      "Epoch 26/100\n",
      "133/133 [==============================] - 0s 660us/step - loss: 0.1496 - val_loss: 0.1580\n",
      "Epoch 27/100\n",
      "133/133 [==============================] - 0s 650us/step - loss: 0.1498 - val_loss: 0.1569\n",
      "Epoch 28/100\n",
      "133/133 [==============================] - 0s 660us/step - loss: 0.1500 - val_loss: 0.1583\n",
      "Epoch 29/100\n",
      "133/133 [==============================] - 0s 661us/step - loss: 0.1494 - val_loss: 0.1571\n",
      "Epoch 30/100\n",
      "133/133 [==============================] - 0s 652us/step - loss: 0.1496 - val_loss: 0.1602\n",
      "Epoch 31/100\n",
      "133/133 [==============================] - 0s 669us/step - loss: 0.1494 - val_loss: 0.1574\n",
      "Epoch 32/100\n",
      "133/133 [==============================] - 0s 661us/step - loss: 0.1487 - val_loss: 0.1605\n",
      "Epoch 33/100\n",
      "133/133 [==============================] - 0s 652us/step - loss: 0.1493 - val_loss: 0.1579\n",
      "Epoch 34/100\n",
      "133/133 [==============================] - 0s 677us/step - loss: 0.1488 - val_loss: 0.1580\n",
      "Epoch 35/100\n",
      "133/133 [==============================] - 0s 735us/step - loss: 0.1490 - val_loss: 0.1565\n",
      "Epoch 36/100\n",
      "133/133 [==============================] - 0s 717us/step - loss: 0.1485 - val_loss: 0.1564\n",
      "Epoch 37/100\n",
      "133/133 [==============================] - 0s 708us/step - loss: 0.1486 - val_loss: 0.1591\n",
      "Epoch 38/100\n",
      "133/133 [==============================] - 0s 708us/step - loss: 0.1488 - val_loss: 0.1570\n",
      "Epoch 39/100\n",
      "133/133 [==============================] - 0s 704us/step - loss: 0.1482 - val_loss: 0.1564\n",
      "Epoch 40/100\n",
      "133/133 [==============================] - 0s 700us/step - loss: 0.1479 - val_loss: 0.1571\n",
      "Epoch 41/100\n",
      "133/133 [==============================] - 0s 687us/step - loss: 0.1481 - val_loss: 0.1567\n",
      "Epoch 42/100\n",
      "133/133 [==============================] - 0s 691us/step - loss: 0.1481 - val_loss: 0.1565\n",
      "Epoch 43/100\n",
      "133/133 [==============================] - 0s 691us/step - loss: 0.1477 - val_loss: 0.1571\n",
      "Epoch 44/100\n",
      "133/133 [==============================] - 0s 680us/step - loss: 0.1473 - val_loss: 0.1562\n",
      "Epoch 45/100\n",
      "133/133 [==============================] - 0s 664us/step - loss: 0.1480 - val_loss: 0.1563\n",
      "Epoch 46/100\n",
      "133/133 [==============================] - 0s 642us/step - loss: 0.1476 - val_loss: 0.1579\n",
      "Epoch 47/100\n",
      "133/133 [==============================] - 0s 649us/step - loss: 0.1473 - val_loss: 0.1559\n",
      "Epoch 48/100\n",
      "133/133 [==============================] - 0s 644us/step - loss: 0.1484 - val_loss: 0.1581\n",
      "Epoch 49/100\n",
      "133/133 [==============================] - 0s 654us/step - loss: 0.1475 - val_loss: 0.1564\n",
      "Epoch 50/100\n",
      "133/133 [==============================] - 0s 642us/step - loss: 0.1472 - val_loss: 0.1587\n",
      "Epoch 51/100\n",
      "133/133 [==============================] - 0s 640us/step - loss: 0.1468 - val_loss: 0.1579\n",
      "Epoch 52/100\n",
      "133/133 [==============================] - 0s 672us/step - loss: 0.1470 - val_loss: 0.1575\n",
      "Epoch 53/100\n",
      "133/133 [==============================] - 0s 676us/step - loss: 0.1470 - val_loss: 0.1567\n",
      "Epoch 54/100\n",
      "133/133 [==============================] - 0s 659us/step - loss: 0.1471 - val_loss: 0.1566\n",
      "Epoch 55/100\n",
      "133/133 [==============================] - 0s 653us/step - loss: 0.1468 - val_loss: 0.1573\n",
      "Epoch 56/100\n",
      "133/133 [==============================] - 0s 647us/step - loss: 0.1463 - val_loss: 0.1565\n",
      "Epoch 57/100\n",
      "133/133 [==============================] - 0s 636us/step - loss: 0.1461 - val_loss: 0.1561\n",
      "Epoch 58/100\n",
      "133/133 [==============================] - 0s 641us/step - loss: 0.1468 - val_loss: 0.1570\n",
      "Epoch 59/100\n",
      "133/133 [==============================] - 0s 644us/step - loss: 0.1460 - val_loss: 0.1582\n",
      "Epoch 60/100\n",
      "133/133 [==============================] - 0s 635us/step - loss: 0.1469 - val_loss: 0.1577\n",
      "Epoch 61/100\n",
      "133/133 [==============================] - 0s 644us/step - loss: 0.1464 - val_loss: 0.1575\n",
      "Epoch 62/100\n",
      "133/133 [==============================] - 0s 644us/step - loss: 0.1458 - val_loss: 0.1573\n",
      "Epoch 63/100\n",
      "133/133 [==============================] - 0s 640us/step - loss: 0.1462 - val_loss: 0.1567\n",
      "Epoch 64/100\n",
      "133/133 [==============================] - 0s 637us/step - loss: 0.1464 - val_loss: 0.1565\n",
      "Epoch 65/100\n",
      "133/133 [==============================] - 0s 636us/step - loss: 0.1456 - val_loss: 0.1584\n",
      "Epoch 66/100\n",
      "133/133 [==============================] - 0s 670us/step - loss: 0.1462 - val_loss: 0.1580\n",
      "Epoch 67/100\n",
      "133/133 [==============================] - 0s 714us/step - loss: 0.1464 - val_loss: 0.1564\n"
     ]
    }
   ],
   "source": [
    "es_cb = EarlyStopping(monitor='val_loss', patience=20)\n",
    "\n",
    "model = get_model()\n",
    "pred_on_untrained = model.predict(x_test)\n",
    "\n",
    "history = model.fit(\n",
    "    x_train, y_train,\n",
    "    validation_data = (x_test,y_test),\n",
    "    epochs = 100,\n",
    "    callbacks = [es_cb]\n",
    "    )"
   ]
  },
  {
   "cell_type": "markdown",
   "metadata": {},
   "source": [
    "## 6.2: Plot Training and Validation Loss"
   ]
  },
  {
   "cell_type": "code",
   "execution_count": 12,
   "metadata": {},
   "outputs": [
    {
     "data": {
      "image/png": "[encoded data removed]",
      "text/plain": [
       "<Figure size 576x576 with 1 Axes>"
      ]
     },
     "metadata": {
      "needs_background": "light"
     },
     "output_type": "display_data"
    }
   ],
   "source": [
    "plot_loss(history)"
   ]
  },
  {
   "cell_type": "markdown",
   "metadata": {},
   "source": [
    "# 7: Predictions"
   ]
  },
  {
   "cell_type": "markdown",
   "metadata": {},
   "source": [
    "## 7.1: Plot Raw Predictions"
   ]
  },
  {
   "cell_type": "code",
   "execution_count": 29,
   "metadata": {},
   "outputs": [
    {
     "data": {
      "image/png": "[encoded data removed]",
      "text/plain": [
       "<Figure size 576x576 with 1 Axes>"
      ]
     },
     "metadata": {
      "needs_background": "light"
     },
     "output_type": "display_data"
    }
   ],
   "source": [
    "pred_on_trained = model.predict(x_test)\n",
    "compare_predictions(pred_on_untrained, pred_on_trained, y_test)"
   ]
  },
  {
   "cell_type": "markdown",
   "metadata": {},
   "source": [
    "## 7.2: Plot Price Predictions"
   ]
  },
  {
   "cell_type": "code",
   "execution_count": 31,
   "metadata": {},
   "outputs": [
    {
     "data": {
      "image/png": "[encoded data removed]",
      "text/plain": [
       "<Figure size 576x576 with 1 Axes>"
      ]
     },
     "metadata": {
      "needs_background": "light"
     },
     "output_type": "display_data"
    }
   ],
   "source": [
    "price_untrained = [convert_label_value(y) for y in pred_on_untrained]\n",
    "price_trained = [convert_label_value(y) for y in pred_on_trained]\n",
    "price_test = [convert_label_value(y) for y in y_test]\n",
    "\n",
    "compare_predictions(price_untrained, price_trained, price_test)"
   ]
  }
 ],
 "metadata": {
  "kernelspec": {
   "display_name": "Python 3",
   "language": "python",
   "name": "python3"
  },
  "language_info": {
   "codemirror_mode": {
    "name": "ipython",
    "version": 3
   },
   "file_extension": ".py",
   "mimetype": "text/x-python",
   "name": "python",
   "nbconvert_exporter": "python",
   "pygments_lexer": "ipython3",
   "version": "3.7.6"
  }
 },
 "nbformat": 4,
 "nbformat_minor": 2
}
